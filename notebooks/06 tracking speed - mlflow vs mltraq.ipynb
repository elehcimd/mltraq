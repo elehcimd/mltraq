{
 "cells": [
  {
   "cell_type": "markdown",
   "id": "2f4f0ea2-bc93-402a-b2d5-437c7e7b2c63",
   "metadata": {},
   "source": [
    "# Tracking speed - MLflow vs MLtraq\n",
    "\n",
    "In this experiment, we evaluate the tracking performance of MLFlow and MLtraq varying:\n",
    "\n",
    "* Number of experiments tracked\n",
    "* Number of runs tracked\n",
    "* Number of values tracked\n",
    "\n",
    "Results averaged on `10` runs."
   ]
  },
  {
   "cell_type": "code",
   "execution_count": 1,
   "id": "7c810a1b-c63d-42a0-a7fb-9fd282eeb4c0",
   "metadata": {
    "execution": {
     "iopub.execute_input": "2024-02-14T09:30:38.961101Z",
     "iopub.status.busy": "2024-02-14T09:30:38.960655Z",
     "iopub.status.idle": "2024-02-14T09:30:39.857203Z",
     "shell.execute_reply": "2024-02-14T09:30:39.856934Z"
    }
   },
   "outputs": [],
   "source": [
    "import uuid\n",
    "from contextlib import contextmanager, redirect_stderr, redirect_stdout\n",
    "from os import devnull\n",
    "\n",
    "import mlflow\n",
    "import mltraq\n",
    "\n",
    "\n",
    "@contextmanager\n",
    "def suppress_stdout_stderr():\n",
    "    \"\"\"A context manager that redirects stdout and stderr to devnull\"\"\"\n",
    "    with open(devnull, \"w\") as fnull:\n",
    "        with redirect_stderr(fnull) as err, redirect_stdout(fnull) as out:\n",
    "            yield (err, out)"
   ]
  },
  {
   "cell_type": "code",
   "execution_count": 2,
   "id": "2e0a231b-e4d7-4e2f-af21-1a9045791472",
   "metadata": {
    "execution": {
     "iopub.execute_input": "2024-02-14T09:30:39.858838Z",
     "iopub.status.busy": "2024-02-14T09:30:39.858737Z",
     "iopub.status.idle": "2024-02-14T09:30:39.860713Z",
     "shell.execute_reply": "2024-02-14T09:30:39.860496Z"
    }
   },
   "outputs": [
    {
     "name": "stdout",
     "output_type": "stream",
     "text": [
      "mlflow 2.10.2\n",
      "mltraq 0.0.115\n"
     ]
    }
   ],
   "source": [
    "# MLflow and MLtraq versions\n",
    "print(\"mlflow\", mlflow.__version__)\n",
    "print(\"mltraq\", mltraq.__version__)"
   ]
  },
  {
   "cell_type": "code",
   "execution_count": 3,
   "id": "7440aa9f-ae50-440e-b682-253c3db1405d",
   "metadata": {
    "execution": {
     "iopub.execute_input": "2024-02-14T09:30:39.862048Z",
     "iopub.status.busy": "2024-02-14T09:30:39.861966Z",
     "iopub.status.idle": "2024-02-14T09:30:39.864175Z",
     "shell.execute_reply": "2024-02-14T09:30:39.863922Z"
    }
   },
   "outputs": [],
   "source": [
    "def test_mlflow(n_experiments=1, n_runs=1, n_values=1):\n",
    "    \"\"\"\n",
    "    Test MLflow tracking with a specified number of experiments, runs and values.\n",
    "    \"\"\"\n",
    "    mlflow.set_tracking_uri(\"sqlite:///:memory:\")\n",
    "    # MLflow does not recreate the SQLite db in memory if we set it again with\n",
    "    # set_tracking_uri . However, since the runs are executed in separate processes,\n",
    "    # every process triggers the recreation of the database.\n",
    "    for _ in range(n_experiments):\n",
    "        experiment_id = mlflow.create_experiment(str(uuid.uuid4()))\n",
    "        for _ in range(n_runs):\n",
    "            with mlflow.start_run(experiment_id=experiment_id):\n",
    "                for _ in range(0, n_values):\n",
    "                    mlflow.log_metric(key=\"value\", value=123)\n",
    "            mlflow.end_run()"
   ]
  },
  {
   "cell_type": "code",
   "execution_count": 4,
   "id": "5ed433c3-67bc-4c7f-922b-10d1ff1c592d",
   "metadata": {
    "execution": {
     "iopub.execute_input": "2024-02-14T09:30:39.865403Z",
     "iopub.status.busy": "2024-02-14T09:30:39.865320Z",
     "iopub.status.idle": "2024-02-14T09:30:39.867406Z",
     "shell.execute_reply": "2024-02-14T09:30:39.867201Z"
    }
   },
   "outputs": [],
   "source": [
    "def test_mltraq(n_experiments=1, n_runs=1, n_values=1):\n",
    "    \"\"\"\n",
    "    Test MLtraq tracking with a specified number of experiments, runs and values.\n",
    "    \"\"\"\n",
    "    session = mltraq.create_session()\n",
    "    for _ in range(n_experiments):\n",
    "        experiment = session.create_experiment()\n",
    "        for _ in range(n_runs):\n",
    "            with experiment.run() as run:\n",
    "                run.fields.value = []\n",
    "                for _ in range(0, n_values):\n",
    "                    run.fields.value.append(123)\n",
    "        experiment.persist()"
   ]
  },
  {
   "cell_type": "code",
   "execution_count": 5,
   "id": "802ac4e9-d8bc-4a45-b124-77113c7b37fe",
   "metadata": {
    "execution": {
     "iopub.execute_input": "2024-02-14T09:30:39.868571Z",
     "iopub.status.busy": "2024-02-14T09:30:39.868498Z",
     "iopub.status.idle": "2024-02-14T09:32:16.401463Z",
     "shell.execute_reply": "2024-02-14T09:32:16.401069Z"
    }
   },
   "outputs": [
    {
     "data": {
      "application/vnd.jupyter.widget-view+json": {
       "model_id": "31b53d5b80894537bbe15e35b4add5f5",
       "version_major": 2,
       "version_minor": 0
      },
      "text/plain": [
       "  0%|          | 1/540 [00:02<20:59,  2.34s/it]"
      ]
     },
     "metadata": {},
     "output_type": "display_data"
    },
    {
     "data": {
      "text/html": [
       "Experiment(name=\"rmtn92\", runs.count=540, id=\"b2f8b530-879b-4c23-ab4f-d8c7353c49d8\")"
      ],
      "text/plain": [
       "<mltraq.experiment.Experiment at 0x12dfae2f0>"
      ]
     },
     "execution_count": 5,
     "metadata": {},
     "output_type": "execute_result"
    }
   ],
   "source": [
    "def eval_time(run: mltraq.Run):\n",
    "    \"\"\"\n",
    "    Measure the time required to track a set of experiments.\n",
    "    \"\"\"\n",
    "\n",
    "    with suppress_stdout_stderr():\n",
    "        log = mltraq.Sequence()\n",
    "\n",
    "        # Warm up with creation of DB for MLflow, that\n",
    "        # given it uses Alembic to maintain the schema,\n",
    "        # it might be significantly slower.\n",
    "        test_mlflow(n_experiments=1, n_runs=1, n_values=1)\n",
    "\n",
    "        log.append(tag=\"begin\")\n",
    "        if run.params.method == \"MLflow\":\n",
    "            test_mlflow(\n",
    "                n_experiments=run.params.n_experiments,\n",
    "                n_runs=run.params.n_runs,\n",
    "                n_values=run.params.n_values,\n",
    "            )\n",
    "        elif run.params.method == \"MLtraq\":\n",
    "            test_mltraq(\n",
    "                n_experiments=run.params.n_experiments,\n",
    "                n_runs=run.params.n_runs,\n",
    "                n_values=run.params.n_values,\n",
    "            )\n",
    "        else:\n",
    "            raise Exception(\"unknown method\")\n",
    "\n",
    "        log.append(tag=\"end\")\n",
    "        durations = log.df().pivot_table(index=\"tag\", values=\"timestamp\")[\"timestamp\"]\n",
    "        run.fields.duration = (durations.end - durations.begin).total_seconds()\n",
    "        run.fields |= run.params\n",
    "\n",
    "\n",
    "e = mltraq.create_experiment()\n",
    "e.add_runs(\n",
    "    method=[\"MLflow\", \"MLtraq\"],\n",
    "    i=range(10),\n",
    "    n_experiments=[1, 10, 20],\n",
    "    n_runs=[1, 10, 20],\n",
    "    n_values=[1, 10, 20],\n",
    ")\n",
    "e.execute(eval_time)"
   ]
  },
  {
   "cell_type": "code",
   "execution_count": 6,
   "id": "099da91f-1ebe-4fe2-a733-a45aaf148ab3",
   "metadata": {
    "execution": {
     "iopub.execute_input": "2024-02-14T09:32:16.407178Z",
     "iopub.status.busy": "2024-02-14T09:32:16.407019Z",
     "iopub.status.idle": "2024-02-14T09:32:17.490908Z",
     "shell.execute_reply": "2024-02-14T09:32:17.490534Z"
    }
   },
   "outputs": [
    {
     "data": {
      "image/png": "[encoded data removed]",
      "text/plain": [
       "<Figure size 600x400 with 4 Axes>"
      ]
     },
     "metadata": {},
     "output_type": "display_data"
    }
   ],
   "source": [
    "import matplotlib.pyplot as plt\n",
    "from mltraq.utils.plot import bar_plot\n",
    "\n",
    "fig, ((ax1, ax2), (ax3, ax4)) = plt.subplots(figsize=[6, 4], nrows=2, ncols=2)\n",
    "fig.tight_layout()\n",
    "plt.subplots_adjust(hspace=0.4)\n",
    "\n",
    "bar_plot(\n",
    "    e.runs.df(),\n",
    "    x=\"n_experiments\",\n",
    "    x_label=\"Number of experiments\",\n",
    "    y=\"duration\",\n",
    "    group=\"method\",\n",
    "    yerr=True,\n",
    "    ax=ax1,\n",
    "    y_label=\"Duration (s)\",\n",
    "    y_lim={\"bottom\": 0},\n",
    "    y_grid=False,\n",
    ")\n",
    "\n",
    "bar_plot(\n",
    "    e.runs.df(),\n",
    "    x=\"method\",\n",
    "    x_label=\"Method\",\n",
    "    y=\"duration\",\n",
    "    yerr=True,\n",
    "    ax=ax2,\n",
    "    y_lim={\"bottom\": 0},\n",
    ")\n",
    "ax2.yaxis.label.set_visible(False)\n",
    "\n",
    "bar_plot(\n",
    "    e.runs.df(),\n",
    "    x=\"n_runs\",\n",
    "    x_label=\"Number of runs\",\n",
    "    y=\"duration\",\n",
    "    yerr=True,\n",
    "    y_label=\"Duration (s)\",\n",
    "    group=\"method\",\n",
    "    ax=ax3,\n",
    "    y_lim={\"bottom\": 0},\n",
    ")\n",
    "\n",
    "bar_plot(\n",
    "    e.runs.df(),\n",
    "    x=\"n_values\",\n",
    "    x_label=\"Number of values\",\n",
    "    y=\"duration\",\n",
    "    yerr=True,\n",
    "    group=\"method\",\n",
    "    ax=ax4,\n",
    "    y_label=\"duration (s)\",\n",
    "    y_lim={\"bottom\": 0},\n",
    ")\n",
    "ax4.yaxis.label.set_visible(False)"
   ]
  },
  {
   "cell_type": "code",
   "execution_count": null,
   "id": "ff2b0b57-292d-455a-ad53-3df33b35d588",
   "metadata": {},
   "outputs": [],
   "source": []
  }
 ],
 "metadata": {
  "kernelspec": {
   "display_name": "Python 3 (ipykernel)",
   "language": "python",
   "name": "python3"
  },
  "language_info": {
   "codemirror_mode": {
    "name": "ipython",
    "version": 3
   },
   "file_extension": ".py",
   "mimetype": "text/x-python",
   "name": "python",
   "nbconvert_exporter": "python",
   "pygments_lexer": "ipython3",
   "version": "3.11.6"
  },
  "widgets": {
   "application/vnd.jupyter.widget-state+json": {
    "state": {
     "2c6f07c01fba423c889be90ea9348a75": {
      "model_module": "@jupyter-widgets/base",
      "model_module_version": "2.0.0",
      "model_name": "LayoutModel",
      "state": {
       "_model_module": "@jupyter-widgets/base",
       "_model_module_version": "2.0.0",
       "_model_name": "LayoutModel",
       "_view_count": null,
       "_view_module": "@jupyter-widgets/base",
       "_view_module_version": "2.0.0",
       "_view_name": "LayoutView",
       "align_content": null,
       "align_items": null,
       "align_self": null,
       "border_bottom": null,
       "border_left": null,
       "border_right": null,
       "border_top": null,
       "bottom": null,
       "display": null,
       "flex": null,
       "flex_flow": null,
       "grid_area": null,
       "grid_auto_columns": null,
       "grid_auto_flow": null,
       "grid_auto_rows": null,
       "grid_column": null,
       "grid_gap": null,
       "grid_row": null,
       "grid_template_areas": null,
       "grid_template_columns": null,
       "grid_template_rows": null,
       "height": null,
       "justify_content": null,
       "justify_items": null,
       "left": null,
       "margin": null,
       "max_height": null,
       "max_width": null,
       "min_height": null,
       "min_width": null,
       "object_fit": null,
       "object_position": null,
       "order": null,
       "overflow": null,
       "padding": null,
       "right": null,
       "top": null,
       "visibility": "hidden",
       "width": null
      }
     },
     "31b53d5b80894537bbe15e35b4add5f5": {
      "model_module": "@jupyter-widgets/controls",
      "model_module_version": "2.0.0",
      "model_name": "HBoxModel",
      "state": {
       "_dom_classes": [],
       "_model_module": "@jupyter-widgets/controls",
       "_model_module_version": "2.0.0",
       "_model_name": "HBoxModel",
       "_view_count": null,
       "_view_module": "@jupyter-widgets/controls",
       "_view_module_version": "2.0.0",
       "_view_name": "HBoxView",
       "box_style": "",
       "children": [
        "IPY_MODEL_d6b3e7f97e33489a9d2403dce874324d",
        "IPY_MODEL_431d43194eae409fa6b04d9325acbca9",
        "IPY_MODEL_87ab616162cf4c68ba75c47b19636d4a"
       ],
       "layout": "IPY_MODEL_2c6f07c01fba423c889be90ea9348a75",
       "tabbable": null,
       "tooltip": null
      }
     },
     "431d43194eae409fa6b04d9325acbca9": {
      "model_module": "@jupyter-widgets/controls",
      "model_module_version": "2.0.0",
      "model_name": "FloatProgressModel",
      "state": {
       "_dom_classes": [],
       "_model_module": "@jupyter-widgets/controls",
       "_model_module_version": "2.0.0",
       "_model_name": "FloatProgressModel",
       "_view_count": null,
       "_view_module": "@jupyter-widgets/controls",
       "_view_module_version": "2.0.0",
       "_view_name": "ProgressView",
       "bar_style": "",
       "description": "",
       "description_allow_html": false,
       "layout": "IPY_MODEL_770e095718704c4d83ac380cffb0c1a3",
       "max": 540.0,
       "min": 0.0,
       "orientation": "horizontal",
       "style": "IPY_MODEL_ad87ec64931644aa9bea64dcbb0dd058",
       "tabbable": null,
       "tooltip": null,
       "value": 540.0
      }
     },
     "770e095718704c4d83ac380cffb0c1a3": {
      "model_module": "@jupyter-widgets/base",
      "model_module_version": "2.0.0",
      "model_name": "LayoutModel",
      "state": {
       "_model_module": "@jupyter-widgets/base",
       "_model_module_version": "2.0.0",
       "_model_name": "LayoutModel",
       "_view_count": null,
       "_view_module": "@jupyter-widgets/base",
       "_view_module_version": "2.0.0",
       "_view_name": "LayoutView",
       "align_content": null,
       "align_items": null,
       "align_self": null,
       "border_bottom": null,
       "border_left": null,
       "border_right": null,
       "border_top": null,
       "bottom": null,
       "display": null,
       "flex": null,
       "flex_flow": null,
       "grid_area": null,
       "grid_auto_columns": null,
       "grid_auto_flow": null,
       "grid_auto_rows": null,
       "grid_column": null,
       "grid_gap": null,
       "grid_row": null,
       "grid_template_areas": null,
       "grid_template_columns": null,
       "grid_template_rows": null,
       "height": null,
       "justify_content": null,
       "justify_items": null,
       "left": null,
       "margin": null,
       "max_height": null,
       "max_width": null,
       "min_height": null,
       "min_width": null,
       "object_fit": null,
       "object_position": null,
       "order": null,
       "overflow": null,
       "padding": null,
       "right": null,
       "top": null,
       "visibility": null,
       "width": null
      }
     },
     "781b04e56898487999098cf7368c59ec": {
      "model_module": "@jupyter-widgets/controls",
      "model_module_version": "2.0.0",
      "model_name": "HTMLStyleModel",
      "state": {
       "_model_module": "@jupyter-widgets/controls",
       "_model_module_version": "2.0.0",
       "_model_name": "HTMLStyleModel",
       "_view_count": null,
       "_view_module": "@jupyter-widgets/base",
       "_view_module_version": "2.0.0",
       "_view_name": "StyleView",
       "background": null,
       "description_width": "",
       "font_size": null,
       "text_color": null
      }
     },
     "87ab616162cf4c68ba75c47b19636d4a": {
      "model_module": "@jupyter-widgets/controls",
      "model_module_version": "2.0.0",
      "model_name": "HTMLModel",
      "state": {
       "_dom_classes": [],
       "_model_module": "@jupyter-widgets/controls",
       "_model_module_version": "2.0.0",
       "_model_name": "HTMLModel",
       "_view_count": null,
       "_view_module": "@jupyter-widgets/controls",
       "_view_module_version": "2.0.0",
       "_view_name": "HTMLView",
       "description": "",
       "description_allow_html": false,
       "layout": "IPY_MODEL_adc3e85796a84236ac7530e978291d43",
       "placeholder": "​",
       "style": "IPY_MODEL_b1603da9b0e84161bdb0067d63c65694",
       "tabbable": null,
       "tooltip": null,
       "value": " 540/540 [01:36&lt;00:00,  5.60it/s]"
      }
     },
     "ad87ec64931644aa9bea64dcbb0dd058": {
      "model_module": "@jupyter-widgets/controls",
      "model_module_version": "2.0.0",
      "model_name": "ProgressStyleModel",
      "state": {
       "_model_module": "@jupyter-widgets/controls",
       "_model_module_version": "2.0.0",
       "_model_name": "ProgressStyleModel",
       "_view_count": null,
       "_view_module": "@jupyter-widgets/base",
       "_view_module_version": "2.0.0",
       "_view_name": "StyleView",
       "bar_color": null,
       "description_width": ""
      }
     },
     "adc3e85796a84236ac7530e978291d43": {
      "model_module": "@jupyter-widgets/base",
      "model_module_version": "2.0.0",
      "model_name": "LayoutModel",
      "state": {
       "_model_module": "@jupyter-widgets/base",
       "_model_module_version": "2.0.0",
       "_model_name": "LayoutModel",
       "_view_count": null,
       "_view_module": "@jupyter-widgets/base",
       "_view_module_version": "2.0.0",
       "_view_name": "LayoutView",
       "align_content": null,
       "align_items": null,
       "align_self": null,
       "border_bottom": null,
       "border_left": null,
       "border_right": null,
       "border_top": null,
       "bottom": null,
       "display": null,
       "flex": null,
       "flex_flow": null,
       "grid_area": null,
       "grid_auto_columns": null,
       "grid_auto_flow": null,
       "grid_auto_rows": null,
       "grid_column": null,
       "grid_gap": null,
       "grid_row": null,
       "grid_template_areas": null,
       "grid_template_columns": null,
       "grid_template_rows": null,
       "height": null,
       "justify_content": null,
       "justify_items": null,
       "left": null,
       "margin": null,
       "max_height": null,
       "max_width": null,
       "min_height": null,
       "min_width": null,
       "object_fit": null,
       "object_position": null,
       "order": null,
       "overflow": null,
       "padding": null,
       "right": null,
       "top": null,
       "visibility": null,
       "width": null
      }
     },
     "b1603da9b0e84161bdb0067d63c65694": {
      "model_module": "@jupyter-widgets/controls",
      "model_module_version": "2.0.0",
      "model_name": "HTMLStyleModel",
      "state": {
       "_model_module": "@jupyter-widgets/controls",
       "_model_module_version": "2.0.0",
       "_model_name": "HTMLStyleModel",
       "_view_count": null,
       "_view_module": "@jupyter-widgets/base",
       "_view_module_version": "2.0.0",
       "_view_name": "StyleView",
       "background": null,
       "description_width": "",
       "font_size": null,
       "text_color": null
      }
     },
     "d3ae2e6f74744a98bb3411171bfe3505": {
      "model_module": "@jupyter-widgets/base",
      "model_module_version": "2.0.0",
      "model_name": "LayoutModel",
      "state": {
       "_model_module": "@jupyter-widgets/base",
       "_model_module_version": "2.0.0",
       "_model_name": "LayoutModel",
       "_view_count": null,
       "_view_module": "@jupyter-widgets/base",
       "_view_module_version": "2.0.0",
       "_view_name": "LayoutView",
       "align_content": null,
       "align_items": null,
       "align_self": null,
       "border_bottom": null,
       "border_left": null,
       "border_right": null,
       "border_top": null,
       "bottom": null,
       "display": null,
       "flex": null,
       "flex_flow": null,
       "grid_area": null,
       "grid_auto_columns": null,
       "grid_auto_flow": null,
       "grid_auto_rows": null,
       "grid_column": null,
       "grid_gap": null,
       "grid_row": null,
       "grid_template_areas": null,
       "grid_template_columns": null,
       "grid_template_rows": null,
       "height": null,
       "justify_content": null,
       "justify_items": null,
       "left": null,
       "margin": null,
       "max_height": null,
       "max_width": null,
       "min_height": null,
       "min_width": null,
       "object_fit": null,
       "object_position": null,
       "order": null,
       "overflow": null,
       "padding": null,
       "right": null,
       "top": null,
       "visibility": null,
       "width": null
      }
     },
     "d6b3e7f97e33489a9d2403dce874324d": {
      "model_module": "@jupyter-widgets/controls",
      "model_module_version": "2.0.0",
      "model_name": "HTMLModel",
      "state": {
       "_dom_classes": [],
       "_model_module": "@jupyter-widgets/controls",
       "_model_module_version": "2.0.0",
       "_model_name": "HTMLModel",
       "_view_count": null,
       "_view_module": "@jupyter-widgets/controls",
       "_view_module_version": "2.0.0",
       "_view_name": "HTMLView",
       "description": "",
       "description_allow_html": false,
       "layout": "IPY_MODEL_d3ae2e6f74744a98bb3411171bfe3505",
       "placeholder": "​",
       "style": "IPY_MODEL_781b04e56898487999098cf7368c59ec",
       "tabbable": null,
       "tooltip": null,
       "value": "100%"
      }
     }
    },
    "version_major": 2,
    "version_minor": 0
   }
  }
 },
 "nbformat": 4,
 "nbformat_minor": 5
}
