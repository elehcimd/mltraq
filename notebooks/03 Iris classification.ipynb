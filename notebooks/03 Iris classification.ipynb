{
 "cells": [
  {
   "cell_type": "code",
   "execution_count": 1,
   "metadata": {},
   "outputs": [],
   "source": [
    "from functools import partial\n",
    "\n",
    "from mltraq import create_session, Run\n",
    "from sklearn.cluster import KMeans\n",
    "from sklearn.datasets import load_iris\n",
    "from sklearn.dummy import DummyClassifier\n",
    "from sklearn.ensemble import RandomForestClassifier\n",
    "from sklearn.linear_model import LogisticRegression\n",
    "from sklearn.metrics import accuracy_score\n",
    "from sklearn.tree import DecisionTreeClassifier\n",
    "from sklearn.utils import shuffle"
   ]
  },
  {
   "cell_type": "code",
   "execution_count": 2,
   "metadata": {},
   "outputs": [],
   "source": [
    "def load(run: Run):\n",
    "    # Load the IRIS dataset, taking care of shuffling the samples.\n",
    "    # We use run.vars, accessible only within the execution of the runs.\n",
    "    run.vars.X, run.vars.y = shuffle(\n",
    "        *load_iris(return_X_y=True), random_state=run.params.seed\n",
    "    )"
   ]
  },
  {
   "cell_type": "code",
   "execution_count": 3,
   "metadata": {},
   "outputs": [],
   "source": [
    "def train_predict(run: Run):\n",
    "    # Instantiate and train classifier on 100 samples (50 random samples left for evaluation).\n",
    "    model = run.params.classifier(random_state=run.params.seed).fit(\n",
    "        run.vars.X[:100], run.vars.y[:100]\n",
    "    )\n",
    "\n",
    "    # Track the classifier name on run.fields, persisted to database.\n",
    "    run.fields.model_name = model.__class__.__name__\n",
    "\n",
    "    # Use trained model to make predictions.\n",
    "    run.vars.y_pred = model.predict(run.vars.X[100:])\n",
    "    run.vars.y_true = run.vars.y[100:]\n"
   ]
  },
  {
   "cell_type": "code",
   "execution_count": 4,
   "metadata": {},
   "outputs": [],
   "source": [
    "def evaluate(run: Run):\n",
    "    # Track accuracy score from previously determined predictions.\n",
    "    run.fields.accuracy = accuracy_score(run.vars.y_true, run.vars.y_pred)\n"
   ]
  },
  {
   "cell_type": "code",
   "execution_count": 5,
   "metadata": {},
   "outputs": [],
   "source": [
    "# Connect to the MLtraq session and craete an experiment.\n",
    "session = create_session()\n",
    "experiment = session.create_experiment()"
   ]
  },
  {
   "cell_type": "code",
   "execution_count": 6,
   "metadata": {},
   "outputs": [
    {
     "data": {
      "text/html": [
       "Experiment(name=\"ylxm56\", runs.count=50, id=\"4217720b-d6e5-4ace-8b5e-a88b958c8037\")"
      ],
      "text/plain": [
       "<mltraq.experiment.Experiment at 0x16c393ba0>"
      ]
     },
     "execution_count": 6,
     "metadata": {},
     "output_type": "execute_result"
    }
   ],
   "source": [
    "# Use a parameter grid to define the experiment's runs.\n",
    "experiment.add_runs(\n",
    "    classifier=[\n",
    "        partial(DummyClassifier, strategy=\"most_frequent\"),\n",
    "        partial(LogisticRegression, max_iter=1000),\n",
    "        partial(KMeans, n_clusters=3, n_init=\"auto\"),\n",
    "        DecisionTreeClassifier,\n",
    "        RandomForestClassifier,\n",
    "    ],\n",
    "    seed=range(10),\n",
    ")"
   ]
  },
  {
   "cell_type": "code",
   "execution_count": 7,
   "metadata": {},
   "outputs": [
    {
     "data": {
      "application/vnd.jupyter.widget-view+json": {
       "model_id": "200dd75bd2a9413784538698ffe41084",
       "version_major": 2,
       "version_minor": 0
      },
      "text/plain": [
       "  2%|2         | 1/50 [00:01<01:16,  1.57s/it]"
      ]
     },
     "metadata": {},
     "output_type": "display_data"
    },
    {
     "data": {
      "text/html": [
       "Experiment(name=\"ylxm56\", runs.count=50, id=\"4217720b-d6e5-4ace-8b5e-a88b958c8037\")"
      ],
      "text/plain": [
       "<mltraq.experiment.Experiment at 0x16c393ba0>"
      ]
     },
     "execution_count": 7,
     "metadata": {},
     "output_type": "execute_result"
    }
   ],
   "source": [
    "# Execute experiment, running in parallel the step functions on each run.\n",
    "experiment.execute(steps=[load, train_predict, evaluate])"
   ]
  },
  {
   "cell_type": "code",
   "execution_count": 8,
   "metadata": {},
   "outputs": [
    {
     "data": {
      "text/html": [
       "<div>\n",
       "<style scoped>\n",
       "    .dataframe tbody tr th:only-of-type {\n",
       "        vertical-align: middle;\n",
       "    }\n",
       "\n",
       "    .dataframe tbody tr th {\n",
       "        vertical-align: top;\n",
       "    }\n",
       "\n",
       "    .dataframe thead th {\n",
       "        text-align: right;\n",
       "    }\n",
       "</style>\n",
       "<table border=\"1\" class=\"dataframe\">\n",
       "  <thead>\n",
       "    <tr style=\"text-align: right;\">\n",
       "      <th></th>\n",
       "      <th>accuracy</th>\n",
       "    </tr>\n",
       "    <tr>\n",
       "      <th>model_name</th>\n",
       "      <th></th>\n",
       "    </tr>\n",
       "  </thead>\n",
       "  <tbody>\n",
       "    <tr>\n",
       "      <th>LogisticRegression</th>\n",
       "      <td>0.960</td>\n",
       "    </tr>\n",
       "    <tr>\n",
       "      <th>RandomForestClassifier</th>\n",
       "      <td>0.952</td>\n",
       "    </tr>\n",
       "    <tr>\n",
       "      <th>DecisionTreeClassifier</th>\n",
       "      <td>0.938</td>\n",
       "    </tr>\n",
       "    <tr>\n",
       "      <th>KMeans</th>\n",
       "      <td>0.336</td>\n",
       "    </tr>\n",
       "    <tr>\n",
       "      <th>DummyClassifier</th>\n",
       "      <td>0.288</td>\n",
       "    </tr>\n",
       "  </tbody>\n",
       "</table>\n",
       "</div>"
      ],
      "text/plain": [
       "                        accuracy\n",
       "model_name                      \n",
       "LogisticRegression         0.960\n",
       "RandomForestClassifier     0.952\n",
       "DecisionTreeClassifier     0.938\n",
       "KMeans                     0.336\n",
       "DummyClassifier            0.288"
      ]
     },
     "execution_count": 8,
     "metadata": {},
     "output_type": "execute_result"
    }
   ],
   "source": [
    "(experiment.runs.df()\n",
    "    .groupby(\"model_name\")\n",
    "    .mean(numeric_only=True)\n",
    "    .sort_values(by=\"accuracy\", ascending=False))"
   ]
  }
 ],
 "metadata": {
  "kernelspec": {
   "display_name": ".venv",
   "language": "python",
   "name": "python3"
  },
  "language_info": {
   "codemirror_mode": {
    "name": "ipython",
    "version": 3
   },
   "file_extension": ".py",
   "mimetype": "text/x-python",
   "name": "python",
   "nbconvert_exporter": "python",
   "pygments_lexer": "ipython3",
   "version": "3.11.6"
  }
 },
 "nbformat": 4,
 "nbformat_minor": 2
}
