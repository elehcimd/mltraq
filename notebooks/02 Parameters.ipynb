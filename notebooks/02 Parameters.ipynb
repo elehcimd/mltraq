{
 "cells": [
  {
   "cell_type": "code",
   "execution_count": 1,
   "metadata": {},
   "outputs": [],
   "source": [
    "# Imports\n",
    "from mltraq import create_experiment, Run"
   ]
  },
  {
   "cell_type": "code",
   "execution_count": 2,
   "metadata": {},
   "outputs": [],
   "source": [
    "def f1(run: Run):\n",
    "    \"\"\"\n",
    "    Store inputs as fields and compute AB\n",
    "    \"\"\"\n",
    "    run.fields.A = run.params.A\n",
    "    run.fields.B = run.params.B\n",
    "    run.fields.C = run.config.C\n",
    "    run.fields.AB = run.fields.A + run.fields.B\n"
   ]
  },
  {
   "cell_type": "code",
   "execution_count": 3,
   "metadata": {},
   "outputs": [],
   "source": [
    "def f2(run: Run):\n",
    "    \"\"\"\n",
    "    Compute ABC\n",
    "    \"\"\"\n",
    "    run.fields.ABC = run.fields.AB + run.fields.C"
   ]
  },
  {
   "cell_type": "code",
   "execution_count": 4,
   "metadata": {},
   "outputs": [],
   "source": [
    "def f3(run: Run):\n",
    "    \"\"\"\n",
    "    Compute ABCD\n",
    "    \"\"\"\n",
    "    run.fields.ABCD = run.fields.ABC + run.config.D"
   ]
  },
  {
   "cell_type": "code",
   "execution_count": 5,
   "metadata": {},
   "outputs": [],
   "source": [
    "# Create experiment\n",
    "experiment = create_experiment(\"example\")"
   ]
  },
  {
   "cell_type": "code",
   "execution_count": 6,
   "metadata": {},
   "outputs": [
    {
     "data": {
      "application/vnd.jupyter.widget-view+json": {
       "model_id": "529faa57d86142c9b94b0a787fbaba24",
       "version_major": 2,
       "version_minor": 0
      },
      "text/plain": [
       " 25%|##5       | 1/4 [00:00<00:02,  1.22it/s]"
      ]
     },
     "metadata": {},
     "output_type": "display_data"
    },
    {
     "data": {
      "text/html": [
       "Experiment(name=\"example\", runs.count=4, id=\"71dcfd94-d60b-47b5-bd78-aa5e8c39663a\")"
      ],
      "text/plain": [
       "<mltraq.experiment.Experiment at 0x1683a8bd0>"
      ]
     },
     "execution_count": 6,
     "metadata": {},
     "output_type": "execute_result"
    }
   ],
   "source": [
    "(experiment\n",
    "    .add_runs(A=[1, 2], B=[3, 4])  # Parameters grid\n",
    "    .execute([f1, f2], config={\"C\": 5})  # Execute steps\n",
    "    .persist())  # Persistence to database\n"
   ]
  },
  {
   "cell_type": "code",
   "execution_count": 7,
   "metadata": {},
   "outputs": [
    {
     "data": {
      "application/vnd.jupyter.widget-view+json": {
       "model_id": "c4bec96abd97403cb3aea10cc39f2add",
       "version_major": 2,
       "version_minor": 0
      },
      "text/plain": [
       " 25%|##5       | 1/4 [00:00<00:00, 165.67it/s]"
      ]
     },
     "metadata": {},
     "output_type": "display_data"
    },
    {
     "data": {
      "text/html": [
       "<div>\n",
       "<style scoped>\n",
       "    .dataframe tbody tr th:only-of-type {\n",
       "        vertical-align: middle;\n",
       "    }\n",
       "\n",
       "    .dataframe tbody tr th {\n",
       "        vertical-align: top;\n",
       "    }\n",
       "\n",
       "    .dataframe thead th {\n",
       "        text-align: right;\n",
       "    }\n",
       "</style>\n",
       "<table border=\"1\" class=\"dataframe\">\n",
       "  <thead>\n",
       "    <tr style=\"text-align: right;\">\n",
       "      <th></th>\n",
       "      <th>A</th>\n",
       "      <th>B</th>\n",
       "      <th>C</th>\n",
       "      <th>AB</th>\n",
       "      <th>ABC</th>\n",
       "      <th>ABCD</th>\n",
       "    </tr>\n",
       "  </thead>\n",
       "  <tbody>\n",
       "    <tr>\n",
       "      <th>0</th>\n",
       "      <td>2</td>\n",
       "      <td>3</td>\n",
       "      <td>5</td>\n",
       "      <td>5</td>\n",
       "      <td>10</td>\n",
       "      <td>16</td>\n",
       "    </tr>\n",
       "    <tr>\n",
       "      <th>1</th>\n",
       "      <td>2</td>\n",
       "      <td>4</td>\n",
       "      <td>5</td>\n",
       "      <td>6</td>\n",
       "      <td>11</td>\n",
       "      <td>17</td>\n",
       "    </tr>\n",
       "    <tr>\n",
       "      <th>2</th>\n",
       "      <td>1</td>\n",
       "      <td>4</td>\n",
       "      <td>5</td>\n",
       "      <td>5</td>\n",
       "      <td>10</td>\n",
       "      <td>16</td>\n",
       "    </tr>\n",
       "    <tr>\n",
       "      <th>3</th>\n",
       "      <td>1</td>\n",
       "      <td>3</td>\n",
       "      <td>5</td>\n",
       "      <td>4</td>\n",
       "      <td>9</td>\n",
       "      <td>15</td>\n",
       "    </tr>\n",
       "  </tbody>\n",
       "</table>\n",
       "</div>"
      ],
      "text/plain": [
       "   A  B  C  AB  ABC  ABCD\n",
       "0  2  3  5   5   10    16\n",
       "1  2  4  5   6   11    17\n",
       "2  1  4  5   5   10    16\n",
       "3  1  3  5   4    9    15"
      ]
     },
     "execution_count": 7,
     "metadata": {},
     "output_type": "execute_result"
    }
   ],
   "source": [
    "(experiment\n",
    "    .reload()  # Reload experiment from database\n",
    "    .execute(f3, config={\"D\": 6})  # Continue execution\n",
    "    .persist(if_exists=\"replace\")  # Persist to database\n",
    "    .db.query(\n",
    "        \"SELECT A, B, C, AB, ABC, ABCD FROM experiment_example\"\n",
    "    ))  # SQL query"
   ]
  }
 ],
 "metadata": {
  "kernelspec": {
   "display_name": ".venv",
   "language": "python",
   "name": "python3"
  },
  "language_info": {
   "codemirror_mode": {
    "name": "ipython",
    "version": 3
   },
   "file_extension": ".py",
   "mimetype": "text/x-python",
   "name": "python",
   "nbconvert_exporter": "python",
   "pygments_lexer": "ipython3",
   "version": "3.11.6"
  }
 },
 "nbformat": 4,
 "nbformat_minor": 2
}
