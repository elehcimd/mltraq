{
 "cells": [
  {
   "cell_type": "code",
   "execution_count": 1,
   "id": "fa96655f-e2ae-4a6a-81e9-901fc078499d",
   "metadata": {},
   "outputs": [],
   "source": [
    "# Local imports\n",
    "import sys\n",
    "\n",
    "sys.path.insert(0, \".\")\n",
    "from iris import classifiers, evaluate, load, train_predict"
   ]
  },
  {
   "cell_type": "code",
   "execution_count": 2,
   "id": "de67af80-ec51-4bd6-983e-39a75c2608af",
   "metadata": {},
   "outputs": [],
   "source": [
    "# Other imports\n",
    "from mltraq import create_session\n",
    "from mltraq.storage.archivestore import Archive\n",
    "from mltraq.utils.logging import init_logging"
   ]
  },
  {
   "cell_type": "code",
   "execution_count": 3,
   "id": "5af0331d-c736-4139-be77-b3127b134afe",
   "metadata": {},
   "outputs": [
    {
     "name": "stdout",
     "output_type": "stream",
     "text": [
      "DEBUG     2024-04-03 18:51:22  Logging level set to DEBUG\n",
      "DEBUG     2024-04-03 18:51:22  Created DB link: 'sqlite:///iris-with-code.db'\n",
      "DEBUG     2024-04-03 18:51:22  Using backend: loky\n",
      "DEBUG     2024-04-03 18:51:22  Executing 50 tasks on 10 workers (backend:loky)\n"
     ]
    },
    {
     "data": {
      "application/vnd.jupyter.widget-view+json": {
       "model_id": "",
       "version_major": 2,
       "version_minor": 0
      },
      "text/plain": [
       "  2%|2         | 1/50 [00:01<01:20,  1.65s/it]"
      ]
     },
     "metadata": {},
     "output_type": "display_data"
    },
    {
     "name": "stdout",
     "output_type": "stream",
     "text": [
      "DEBUG     2024-04-03 18:51:24  ArchiveStoreIO: [0] Adding iris.py -> .../iris.py\n",
      "DEBUG     2024-04-03 18:51:24  ArchiveStoreIO: [1] Adding create.ipynb -> .../create.ipynb\n",
      "DEBUG     2024-04-03 18:51:24  Persisting experiment (table name: experiment_iris_with_code)\n"
     ]
    },
    {
     "data": {
      "text/html": [
       "Experiment(name=\"iris-with-code\", runs.count=50, id=\"c351649a-c6f2-4255-a9a9-a0e706346a2f\")"
      ],
      "text/plain": [
       "<mltraq.experiment.Experiment at 0x17ba7f650>"
      ]
     },
     "execution_count": 3,
     "metadata": {},
     "output_type": "execute_result"
    }
   ],
   "source": [
    "# Enable logging to stdout at DEBUG level\n",
    "init_logging(\"DEBUG\")\n",
    "\n",
    "# Connect to the MLtraq session and create an experiment.\n",
    "session = create_session(\"sqlite:///iris-with-code.db\")\n",
    "experiment = session.create_experiment(\"iris-with-code\")\n",
    "\n",
    "# Use a parameter grid to define the experiment's runs.\n",
    "experiment.add_runs(classifier=classifiers, seed=range(10))\n",
    "\n",
    "# Execute experiment, running in parallel the step functions on each run.\n",
    "experiment.execute(steps=[load, train_predict, evaluate])\n",
    "\n",
    "# Save src directory as an in-memory archive\n",
    "experiment.fields.code = Archive.create(\".\", exclude=[\"*.pyc\", \"*.db\", \"load.ipynb\"])\n",
    "\n",
    "# Persist\n",
    "experiment.persist(if_exists=\"replace\")"
   ]
  },
  {
   "cell_type": "code",
   "execution_count": 4,
   "id": "c6578276-f2cd-4921-847f-408735428953",
   "metadata": {},
   "outputs": [
    {
     "data": {
      "text/plain": [
       "<mltraq.storage.archivestore.Archive at 0x17ba93df0>"
      ]
     },
     "execution_count": 4,
     "metadata": {},
     "output_type": "execute_result"
    }
   ],
   "source": [
    "experiment.fields.code"
   ]
  },
  {
   "cell_type": "code",
   "execution_count": 5,
   "id": "146e1e6c-a336-4f45-a400-0e30310752aa",
   "metadata": {},
   "outputs": [
    {
     "name": "stdout",
     "output_type": "stream",
     "text": [
      "DEBUG     2024-04-03 18:51:24  Extracting archive to 'src_unarchived' ...\n",
      "src_unarchived\n",
      "src_unarchived/create.ipynb\n",
      "src_unarchived/iris.py\n"
     ]
    }
   ],
   "source": [
    "# Test extraction\n",
    "experiment.fields.code.extract(\"src_unarchived\")\n",
    "!find src_unarchived\n",
    "!rm -rf src_unarchived"
   ]
  },
  {
   "cell_type": "code",
   "execution_count": null,
   "id": "d464e56d-3f23-45c4-9027-fc359584cbfc",
   "metadata": {},
   "outputs": [],
   "source": []
  }
 ],
 "metadata": {
  "kernelspec": {
   "display_name": "Python 3 (ipykernel)",
   "language": "python",
   "name": "python3"
  },
  "language_info": {
   "codemirror_mode": {
    "name": "ipython",
    "version": 3
   },
   "file_extension": ".py",
   "mimetype": "text/x-python",
   "name": "python",
   "nbconvert_exporter": "python",
   "pygments_lexer": "ipython3",
   "version": "3.11.6"
  }
 },
 "nbformat": 4,
 "nbformat_minor": 5
}
