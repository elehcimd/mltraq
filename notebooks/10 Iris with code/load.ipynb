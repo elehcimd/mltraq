{
 "cells": [
  {
   "cell_type": "code",
   "execution_count": 8,
   "id": "a09dbaf1-1153-461d-a98b-1ac56e6115e9",
   "metadata": {},
   "outputs": [
    {
     "data": {
      "application/vnd.jupyter.widget-view+json": {
       "model_id": "38c5b63290654a9a9b3fac11c42458d3",
       "version_major": 2,
       "version_minor": 0
      },
      "text/plain": [
       "Fetching:   0%|          | 0/22 [00:00<?, ?it/s]"
      ]
     },
     "metadata": {},
     "output_type": "display_data"
    },
    {
     "name": "stdout",
     "output_type": "stream",
     "text": [
      "code\n",
      "code/create.ipynb\n",
      "code/iris.py\n"
     ]
    }
   ],
   "source": [
    "from mltraq import create_session\n",
    "\n",
    "(\n",
    "    create_session(\"https://github.com/elehcimd/mltraq-data/raw/main/iris-with-code.db\")\n",
    "    .load(\"iris-with-code\")\n",
    "    .fields.code.extract(\"code\")\n",
    ")\n",
    "\n",
    "!find code\n",
    "!rm -rf code"
   ]
  },
  {
   "cell_type": "code",
   "execution_count": null,
   "id": "c217d0e5-9cc8-4de0-a2bc-7878ba724fb4",
   "metadata": {},
   "outputs": [],
   "source": []
  },
  {
   "cell_type": "code",
   "execution_count": null,
   "id": "1e9dc975-55a8-4ca0-aed0-8ac50cd93b58",
   "metadata": {},
   "outputs": [],
   "source": []
  }
 ],
 "metadata": {
  "kernelspec": {
   "display_name": "Python 3 (ipykernel)",
   "language": "python",
   "name": "python3"
  },
  "language_info": {
   "codemirror_mode": {
    "name": "ipython",
    "version": 3
   },
   "file_extension": ".py",
   "mimetype": "text/x-python",
   "name": "python",
   "nbconvert_exporter": "python",
   "pygments_lexer": "ipython3",
   "version": "3.11.6"
  }
 },
 "nbformat": 4,
 "nbformat_minor": 5
}
